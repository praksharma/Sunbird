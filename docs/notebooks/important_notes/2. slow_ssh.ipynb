{
 "cells": [
  {
   "cell_type": "markdown",
   "id": "d3babfaa-7fbc-4e3c-bc9c-81957f5ec112",
   "metadata": {},
   "source": [
    "# Slow SSH and GVFS on Ubuntu 22.04\n",
    "Recently, after upgrading to Ubuntu 22.04, I noticed that SSH connections were very slow. It took about 10 seconds to connect to a remote server. I also noticed that the GVFS (GNOME Virtual File System) was also very slow. It took about 30 seconds to mount a folder on Sunbird in Nautilus. It turns out `ssh -v` might reveal the problem.\n",
    "\n",
    "In my case it was `GSSAPIAuthentication` and multiple `known-hosts` files. I had to disable `GSSAPIAuthentication` and remove the extra `known-hosts` files.\n",
    "\n",
    "```sh\n",
    "sudo nano /etc/ssh/ssh_config\n",
    "```\n",
    "\n",
    "We add the following line to the file to make the settings system-wide:\n",
    "\n",
    "```sh\n",
    "Host *\n",
    "    UserKnownHostsFile ~/.ssh/known_hosts\n",
    "    # other directives...\n",
    "    GSSAPIAuthentication no\n",
    "```\n",
    "\n",
    "We can do it on case-by-case basis by adding the following to the `~/.ssh/config` file:\n",
    "\n",
    "```sh\n",
    "Host\tsunbird\n",
    "\tUser\ts.1915438\n",
    "\tHostName\tsunbird.swansea.ac.uk\n",
    "\tIdentityFile\t~/.ssh/id_rsa\n",
    "\tIdentitiesOnly\tyes\n",
    "\tGSSAPIAuthentication no\n",
    "```\n",
    "Now the SSH connection is instant and GVFS is also fast.\n"
   ]
  }
 ],
 "metadata": {
  "kernelspec": {
   "display_name": "Python 3 (ipykernel)",
   "language": "python",
   "name": "python3"
  },
  "language_info": {
   "codemirror_mode": {
    "name": "ipython",
    "version": 3
   },
   "file_extension": ".py",
   "mimetype": "text/x-python",
   "name": "python",
   "nbconvert_exporter": "python",
   "pygments_lexer": "ipython3",
   "version": "3.9.13"
  }
 },
 "nbformat": 4,
 "nbformat_minor": 5
}
