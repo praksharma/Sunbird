{
 "cells": [
  {
   "cell_type": "markdown",
   "id": "f2c81c7b-4a8c-4484-8523-b1f162ab42c2",
   "metadata": {},
   "source": [
    "# Setup Nvidia Modulus v22.03 on Sunbird using interactive GPU session\n",
    "\n",
    "As of 17 Apr 2022, the link to Modulus tutorial is bit secret. Here is the link: https://docs.nvidia.com/deeplearning/modulus/index.html"
   ]
  },
  {
   "cell_type": "markdown",
   "id": "f6cf077c-6edd-4043-94e6-1dc93ce04d94",
   "metadata": {},
   "source": [
    "# Installation\n",
    "It turns out that Conda environment is experiencing lots of issues, thus I will use Python virtual environments with out Jupyter lab.\n",
    "\n",
    "## Installing latest Python\n",
    "If we have a look at available versions of Python in Sunbird, it is very old. The latest version is 3.6.\n",
    "```sh\n",
    "[s.1915438@sl1 ~]$ ls /usr/bin/python*\n",
    "/usr/bin/python  /usr/bin/python2  /usr/bin/python2.7  /usr/bin/python2.7-config  /usr/bin/python2-config  /usr/bin/python3  /usr/bin/python3.6  /usr/bin/python3.6m  /usr/bin/python-config\n",
    "```\n",
    "\n",
    "If we want to create a virtual environment with latest Python then we can use Python from within a conda environment. "
   ]
  },
  {
   "cell_type": "markdown",
   "id": "65a3c500-f493-4a0c-a43a-0def24bcc503",
   "metadata": {},
   "source": [
    "Create a new Conda environment as follows. This will create a new conda environment with the latest python.\n",
    "```sh\n",
    "module load anaconda/2021.05\n",
    "conda create --name modulus\n",
    "source activate modulus\n",
    "```\n",
    "Let us check the Python version in the `modulus` environment.\n",
    "```sh\n",
    "(modulus) [s.1915438@sl1 ~]$ which python\n",
    "/lustrehome/home/s.1915438/modulus/bin/python\n",
    "(modulus) [s.1915438@sl1 ~]$ python --version\n",
    "Python 3.9.12\n",
    "```\n"
   ]
  },
  {
   "cell_type": "markdown",
   "id": "e7bfdfeb-eb09-49a4-b363-2c5bf51e8629",
   "metadata": {},
   "source": [
    "We can use this python to create our Python virtual environment as follows. Also, I will create this in `/scratch/` partition as it is faster compared to `/lustrehome/` partition.\n",
    "```sh\n",
    "(modulus) [s.1915438@sl1 ~]$ cd /scratch/s.1915438\n",
    "(modulus) [s.1915438@sl2 s.1915438]$ mkdir env\n",
    "(modulus) [s.1915438@sl2 s.1915438]$ ls\n",
    "ansys195  env  jupyter_env.sh  jupyter_log  jupyter.sh  modulus  Modulus_examples  Modulus_source\n",
    "(modulus) [s.1915438@sl2 s.1915438]$ cd env\n",
    "(modulus) [s.1915438@sl2 env]$ python3 -m venv modulus \n",
    "(modulus) [s.1915438@sl2 env]$\n",
    "```\n",
    "\n",
    "Now it is time to close the conda environment. The simplest way is to reestablish the ssh connection."
   ]
  },
  {
   "cell_type": "markdown",
   "id": "94c74d86-d1c7-4e07-90cd-44e1ed83cc08",
   "metadata": {},
   "source": [
    "## Running Python virtual environment\n",
    "A Python environment can be activate using this command:\n",
    "\n",
    "```sh\n",
    "[s.1915438@sl1 ~]$ cd /scratch/s.1915438\n",
    "[s.1915438@sl1 s.1915438]$ source env/modulus/bin/activate\n",
    "(modulus) [s.1915438@sl1 s.1915438]$ \n",
    "```\n",
    "\n",
    "Now we can check the Python version:\n",
    "```sh\n",
    "(modulus) [s.1915438@sl1 s.1915438]$ which python\n",
    "/scratch/s.1915438/env/modulus/bin/python\n",
    "(modulus) [s.1915438@sl1 s.1915438]$ python --version\n",
    "Python 3.9.12\n",
    "(modulus) [s.1915438@sl1 s.1915438]$ \n",
    "```"
   ]
  },
  {
   "cell_type": "markdown",
   "id": "8da75f5d-b270-4c14-81db-3c144ba4907e",
   "metadata": {},
   "source": [
    "## Installing Pytorch\n",
    "Remember to install correct version of pytorch for Nvidia A100. Version `'1.11.0+cu102'` i.e. 1.11 with CUDA 10.2 is incompatible and you will see the following error.\n",
    "```sh\n",
    "(modulus) [s.1915438@sl2 helmholtz]$ srun python helmholtz.py\n",
    "/scratch/s.1915438/env/modulus/lib/python3.9/site-packages/torch/cuda/__init__.py:145: UserWarning: \n",
    "NVIDIA A100-PCIE-40GB with CUDA capability sm_80 is not compatible with the current PyTorch installation.\n",
    "The current PyTorch install supports CUDA capabilities sm_37 sm_50 sm_60 sm_70.\n",
    "```\n",
    "So, install a later version such as `'1.11.0+cu113'` using `pip3 install torch torchvision torchaudio --extra-index-url https://download.pytorch.org/whl/cu113`."
   ]
  },
  {
   "cell_type": "markdown",
   "id": "57839942-d9b7-4cde-bdc8-0b37b531e217",
   "metadata": {},
   "source": [
    "## Installing Nvidia Modulus v22.03\n",
    "A `requirements.txt` file is present in this directory. It contains the command to install prerequisites for Modulus. Please, do not follow Nvidia's online instructions.\n",
    "\n",
    "```sh\n",
    "pip3 install matplotlib transforms3d future typing numpy quadpy numpy-stl==2.11.2 h5py sympy==1.5.1 termcolor psutil symengine==0.6.1 numba Cython chaospy torch_optimizer vtk chaospy termcolor omegaconf hydra-core einops timm tensorboard pandas orthopy ndim\n",
    "\n",
    "\n",
    "pip3 install -U https://github.com/paulo-herrera/PyEVTK/archive/v1.1.2.tar.gz\n",
    "```\n",
    "Go to the Nvidia Modulus's source directory and install Modulus on `modulus` virtual environment.\n",
    "```sh\n",
    "[s.1915438@sl1 Modulus]$ ls\n",
    "accompanying_licences  build  changelog_tensorflow.md  dist  Dockerfile  external  MANIFEST.in  modulus  modulus.egg-info  NVIDIA-OptiX-SDK-7.0.0-linux64.sh  README.md  requirements.txt  setup.cfg  setup.py\n",
    "[s.1915438@sl1 Modulus]$ pwd\n",
    "/scratch/s.1915438/Modulus_source/Modulus\n",
    "[s.1915438@sl1 Modulus]$ python setup.py install\n",
    "```\n",
    "After some time you should see a success message\n",
    "```sh\n",
    "Using /scratch/s.1915438/modulus/lib/python3.9/site-packages\n",
    "Finished processing dependencies for modulus==22.3\n",
    "```"
   ]
  },
  {
   "cell_type": "markdown",
   "id": "184474f8-da81-49ba-b45d-92e8e6a95647",
   "metadata": {},
   "source": [
    "### Installing PySDF\n",
    "A link: https://forums.developer.nvidia.com/t/modulus-22-03-bare-metal-installation-no-module-named-easy-install/210970\n",
    "\n",
    "Copy PySDF files from previous i.e. from v21.06 `./Modulus/external/pysdf` and paste it `./Modulus/external`. I am doing this because, Python 3.9 no longer supports installation of `egg` files using `easy_install` which is the default method to install PySDF in Modulus v22.03.\n",
    "\n",
    "Now we can proceed with the older instructions, from the older manual as follows.\n",
    "\n",
    "```sh\n",
    "(/scratch/s.1915438/modulus) [s.1915438@sl1 Modulus]$ pwd\n",
    "/scratch/s.1915438/Modulus_source/Modulus\n",
    "(/scratch/s.1915438/modulus) [s.1915438@sl1 Modulus]$ cd external/\n",
    "(/scratch/s.1915438/modulus) [s.1915438@sl1 external]$ ls\n",
    "eggs  lib  pysdf\n",
    "(/scratch/s.1915438/modulus) [s.1915438@sl1 external]$ export LD_LIBRARY_PATH=$(pwd)/pysdf/:${LD_LIBRARY_PATH}\n",
    "```\n",
    "Now install PySDF\n",
    "```sh\n",
    "(modulus) [s.1915438@sl2 pysdf]$ pwd\n",
    "/scratch/s.1915438/Modulus_source/Modulus/external/pysdf\n",
    "(modulus) [s.1915438@sl2 pysdf]$ python setup.py install\n",
    "```\n",
    "after some time you will see\n",
    "```sh\n",
    "Installed /scratch/s.1915438/env/modulus/lib/python3.9/site-packages/pysdf-0.1-py3.9-linux-x86_64.egg\n",
    "Processing dependencies for pysdf==0.1\n",
    "Finished processing dependencies for pysdf==0.1\n",
    "```"
   ]
  },
  {
   "cell_type": "markdown",
   "id": "ba470c11-cfd9-4476-8303-8409279575b1",
   "metadata": {},
   "source": [
    "# Running an interactive GPU session\n",
    "`salloc --nodes=1 --account=scw1901 --partition=accel_ai --gres=gpu:2`\n",
    "\n",
    "set the Number of GPU as you wish, number of CPU does not matter here.\n",
    "```sh\n",
    "(modulus) [s.1915438@sl2 helmholtz]$ salloc --nodes=1 --account=scw1901 --partition=accel_ai --gres=gpu:1\n",
    "salloc: Granted job allocation 7161838\n",
    "salloc: Waiting for resource configuration\n",
    "salloc: Nodes scs2041 are ready for job\n",
    "```\n",
    "We can see our job in two ways. Using `squeue --user=s.1915438` or `squeue --partition=accel_ai`.\n",
    "```sh\n",
    "[s.1915438@sl2 ~]$ squeue --partition=accel_ai\n",
    "             JOBID PARTITION     NAME     USER ST       TIME  NODES NODELIST(REASON)\n",
    "           7161842  accel_ai     bash s.191543  R       0:38      1 scs2041\n",
    "           7161825  accel_ai Eval_ens   a.bip5  R    1:08:17      1 scs2041\n",
    "```"
   ]
  },
  {
   "cell_type": "markdown",
   "id": "52fb0717-8a8b-4723-8c65-23f037cacf1d",
   "metadata": {},
   "source": [
    "## Running Nvidia Modulus example\n",
    "We can use `srun` to run any Python on GPU as follows:\n",
    "```sh\n",
    "(modulus) [s.1915438@sl2 seismic_wave]$ srun python wave_2d.py \n",
    "training:\n",
    "  max_steps: 40000\n",
    "  grad_agg_freq: 1\n",
    "  rec_results_freq: 1000\n",
    "  :\n",
    "  <Output continues>\n",
    "```"
   ]
  },
  {
   "cell_type": "markdown",
   "id": "da131870-0730-4158-8f22-31e5ed94f971",
   "metadata": {},
   "source": [
    "## Cancelling model training\n",
    "Nvidia Modulus trains the model forever and stores the data in `checkpoint` folder. We can cancel the training anytime or when the loss is satisfactory using pressing `ctrl+c` multiple times."
   ]
  },
  {
   "cell_type": "markdown",
   "id": "9042906f-75fc-4ae8-9d2b-20cd5254d046",
   "metadata": {},
   "source": [
    "## Can't run SDF library and STL file support.\n",
    "This is something I have to look at. For now here is the error.\n",
    "```sh\n",
    "(modulus) [s.1915438@sl1 s.1915438]$ cd Modulus_examples/examples/aneurysm/\n",
    "(modulus) [s.1915438@sl1 aneurysm]$ ls\n",
    "aneurysm.py  conf  openfoam  stl_files\n",
    "(modulus) [s.1915438@sl1 aneurysm]$ srun python aneurysm.py\n",
    "Error importing pysdf. Make sure 'libsdf.so' is in LD_LIBRARY_PATH and pysdf is installed\n",
    "Traceback (most recent call last):\n",
    "  File \"/scratch/s.1915438/Modulus_examples/examples/aneurysm/aneurysm.py\", line 25, in <module>\n",
    "    from modulus.geometry.tessellation.tessellation import Tessellation\n",
    "  File \"/scratch/s.1915438/env/modulus/lib/python3.9/site-packages/modulus-22.3-py3.9.egg/modulus/geometry/tessellation/tessellation.py\", line 11, in <module>\n",
    "    import pysdf.sdf as pysdf\n",
    "ImportError: libsdf.so: cannot open shared object file: No such file or directory\n",
    "srun: error: scs2041: task 0: Exited with exit code 1\n",
    "```"
   ]
  }
 ],
 "metadata": {
  "kernelspec": {
   "display_name": "Python 3 (ipykernel)",
   "language": "python",
   "name": "python3"
  },
  "language_info": {
   "codemirror_mode": {
    "name": "ipython",
    "version": 3
   },
   "file_extension": ".py",
   "mimetype": "text/x-python",
   "name": "python",
   "nbconvert_exporter": "python",
   "pygments_lexer": "ipython3",
   "version": "3.9.12"
  }
 },
 "nbformat": 4,
 "nbformat_minor": 5
}
