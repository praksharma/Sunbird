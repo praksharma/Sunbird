{
 "cells": [
  {
   "cell_type": "markdown",
   "metadata": {},
   "source": [
    "# Nvidia Modulus 22.09 module on Sunbird\n",
    "So, recently NVIDIA Modulus 22.09 was loaded as a module on Sunbird. One can easily load the NVIDIA Modulus 22.09 as follows:\n",
    "\n",
    "```sh\n",
    "module load modulus/22.09\n",
    "```\n",
    " \n",
    "What this will do is it will create a environment variable `$MODULUS_IMG` which points to the apptainer image.\n",
    "\n",
    "```sh\n",
    "[s.1915438@sl1(sunbird) ~]$ echo $MODULUS_IMG \n",
    "/apps/local/tools/modulus/22.09/modulus.sif\n",
    "```"
   ]
  },
  {
   "cell_type": "code",
   "execution_count": null,
   "metadata": {
    "vscode": {
     "languageId": "plaintext"
    }
   },
   "outputs": [],
   "source": [
    "## Interactive shell\n",
    "For simplicity we will run the apptainer container interactively using `apptainer shell`. Let us start submitting an interactive job. \n",
    "\n",
    "```sh\n",
    "salloc --nodes=1 --account=scw1901 --partition=accel_ai --gres=gpu:1\n",
    "srun --pty /bin/bash\n",
    "```\n",
    "\n",
    "Now we can fire the apptainer container using  the following command. We additionally need `--nv` flag to make sure the container detects the GPU.\n",
    "\n",
    "```sh\n",
    "apptainer shell --nv --contain --cleanenv --bind \"$(pwd)\":/data,/tmp:/tmp  $MODULUS_IMG\n",
    "```\n",
    "\n",
    "This will run the apptainer container and we can check importing python modules as follows:\n",
    "\n",
    "```sh\n",
    "[s.1915438@scs2041(sunbird) ~]$ apptainer shell --nv --contain --cleanenv --bind \"$(pwd)\":/data,/tmp:/tmp  $MODULUS_IMG \n",
    "/usr/bin/rm: cannot remove '/usr/local/cuda/compat/lib': Read-only file system\n",
    "rm: cannot remove '/usr/local/cuda/compat/lib': Read-only file system\n",
    "Singularity> nvidia-smi\n",
    "Tue Sep 12 12:27:36 2023       \n",
    "+-----------------------------------------------------------------------------+\n",
    "| NVIDIA-SMI 515.65.01    Driver Version: 515.65.01    CUDA Version: 11.7     |\n",
    "|-------------------------------+----------------------+----------------------+\n",
    "| GPU  Name        Persistence-M| Bus-Id        Disp.A | Volatile Uncorr. ECC |\n",
    "| Fan  Temp  Perf  Pwr:Usage/Cap|         Memory-Usage | GPU-Util  Compute M. |\n",
    "|                               |                      |               MIG M. |\n",
    "|===============================+======================+======================|\n",
    "|   0  NVIDIA A100-PCI...  Off  | 00000000:A3:00.0 Off |                    0 |\n",
    "| N/A   36C    P0    43W / 250W |      0MiB / 40960MiB |      0%      Default |\n",
    "|                               |                      |             Disabled |\n",
    "+-------------------------------+----------------------+----------------------+\n",
    "                                                                               \n",
    "+-----------------------------------------------------------------------------+\n",
    "| Processes:                                                                  |\n",
    "|  GPU   GI   CI        PID   Type   Process name                  GPU Memory |\n",
    "|        ID   ID                                                   Usage      |\n",
    "|=============================================================================|\n",
    "|  No running processes found                                                 |\n",
    "+-----------------------------------------------------------------------------+\n",
    "Singularity> python --version\n",
    "Python 3.8.13\n",
    "Singularity> python\n",
    "Python 3.8.13 | packaged by conda-forge | (default, Mar 25 2022, 06:04:10) \n",
    "[GCC 10.3.0] on linux\n",
    "Type \"help\", \"copyright\", \"credits\" or \"license\" for more information.\n",
    ">>> import torch\n",
    ">>> import modulus\n",
    ">>> import pysdf.sdf\n",
    ">>> \n",
    "Singularity> exit\n",
    "```"
   ]
  }
 ],
 "metadata": {
  "language_info": {
   "name": "python"
  },
  "orig_nbformat": 4
 },
 "nbformat": 4,
 "nbformat_minor": 2
}
