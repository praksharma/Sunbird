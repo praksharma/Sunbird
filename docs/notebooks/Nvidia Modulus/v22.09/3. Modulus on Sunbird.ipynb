{
 "cells": [
  {
   "cell_type": "markdown",
   "metadata": {},
   "source": [
    "# Nvidia Modulus 22.09 module on Sunbird\n",
    "So, recently NVIDIA"
   ]
  }
 ],
 "metadata": {
  "language_info": {
   "name": "python"
  },
  "orig_nbformat": 4
 },
 "nbformat": 4,
 "nbformat_minor": 2
}
