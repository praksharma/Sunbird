{
 "cells": [
  {
   "cell_type": "markdown",
   "id": "8146ec16-c5dc-4b6f-b02e-6fffe93801da",
   "metadata": {},
   "source": [
    "# Jupyter lab port forward of Nvidia modulus"
   ]
  },
  {
   "attachments": {},
   "cell_type": "markdown",
   "id": "b6628689-805a-4f77-8661-dea2b9ba61f4",
   "metadata": {},
   "source": [
    "```sh\n",
    "# Load modules\n",
    "module load apptainer/1.0.3\n",
    "module load modulus/22.09\n",
    "cd /scratch/$USER\n",
    "```"
   ]
  },
  {
   "cell_type": "markdown",
   "id": "672676c0-3906-4c83-8f65-c683ddc7071b",
   "metadata": {},
   "source": [
    "## Run the job\n",
    "```sh\n",
    "salloc --account=scw1901 --gres=gpu:1 --nodes=1 --partition=accel_ai\n",
    "srun --pty /bin/bash\n",
    "```"
   ]
  },
  {
   "cell_type": "markdown",
   "id": "537e997f-ffd3-4259-8e16-95138244fc61",
   "metadata": {},
   "source": [
    "## Fire the container\n",
    "Here we launch the container in an interactive shell. We the `pwd` i.e. the scratch partition to `/data` and the `/tmp` for apptainer's working. `--contain` ensures no volume bind and `cleanenv` ensures not env variables exports. Here we manually export the GPU number with the help of `CUDA_VISIBLE_DEVICES` env variable.\n",
    "\n",
    "```sh\n",
    "apptainer shell --nv --contain --cleanenv --bind \"$(pwd)\":/data,/tmp:/tmp --env CUDA_VISIBLE_DEVICES=$CUDA_VISIBLE_DEVICES $MODULUS_IMG\n",
    "cd /data\n",
    "jupyter-lab --port 8888\n",
    "```"
   ]
  },
  {
   "cell_type": "markdown",
   "id": "e132ba67-f55b-4fcd-843b-7c186e9fcd35",
   "metadata": {},
   "source": [
    "## ssh tunneling\n",
    "```sh\n",
    "ssh -N -L 8888:scs2041:8888 s.1915438@sunbird.swansea.ac.uk\n",
    "```"
   ]
  },
  {
   "cell_type": "markdown",
   "id": "093af61d-5992-41e7-8721-e4184e68765d",
   "metadata": {},
   "source": [
    "## Copy the address\n",
    "```sh\n",
    "COPY http://hostname:8888/?token=a40edc30b1cde5a8c94a03188f1edcf099a5acc3ac617018\n",
    "PASTE http://localhost:8888/?token=a40edc30b1cde5a8c94a03188f1edcf099a5acc3ac617018\n",
    "```"
   ]
  },
  {
   "cell_type": "markdown",
   "id": "a304567c-c1e8-44dc-ac90-dcc1db3ffe20",
   "metadata": {},
   "source": [
    "# Test the container\n",
    "Make sure that you can import the `modulus` and the `pysdf.sdf` modules.\n",
    "```sh\n",
    "s.1915438@scs2001:/data$ python\n",
    "Python 3.8.13 | packaged by conda-forge | (default, Mar 25 2022, 06:04:10) \n",
    ">>> import modulus\n",
    ">>> import pysdf.sdf\n",
    ">>> \n",
    "```"
   ]
  }
 ],
 "metadata": {
  "kernelspec": {
   "display_name": "Python 3 (ipykernel)",
   "language": "python",
   "name": "python3"
  },
  "language_info": {
   "codemirror_mode": {
    "name": "ipython",
    "version": 3
   },
   "file_extension": ".py",
   "mimetype": "text/x-python",
   "name": "python",
   "nbconvert_exporter": "python",
   "pygments_lexer": "ipython3",
   "version": "3.9.13"
  }
 },
 "nbformat": 4,
 "nbformat_minor": 5
}
