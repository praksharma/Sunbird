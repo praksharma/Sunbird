{
 "cells": [
  {
   "cell_type": "markdown",
   "id": "2b926a78-e31f-485b-880c-c6632a064c69",
   "metadata": {},
   "source": [
    "# Setting up the VPN\n",
    "Swansea University has got VPN to securely access the university's local network. Firstly, we need to setup the VPN using the instructions given over [here](https://vpn.swansea.ac.uk/).\n",
    "\n",
    "To start with, we need to download the [Microsoft Authenticator](https://www.microsoft.com/en-us/security/mobile-authenticator-app) on a mobile phone for extra security using [MFA](https://www.microsoft.com/en-gb/security/business/identity-access/azure-active-directory-mfa-multi-factor-authentication).\n",
    "\n",
    "# Setting up the VPN software\n",
    "Now we need to download a supported VPN client. Pulse Secure is a supported VPN client. For Windows and MAc systems, follow the instructions over [here](https://connect.swan.ac.uk/) to download the VPN client.\n",
    "\n",
    "For Linux systems,\n",
    "\n",
    "* Debian systems (.deb): https://dl.technion.ac.il/docs/cis/public/ssl-vpn/ \n",
    "* Arch Systems (AUR repo): https://wiki.archlinux.org/title/Pulse_Connect_Secure#AUR\n",
    "\n",
    "For Arch system, download the AUR version over [here](https://aur.archlinux.org/packages/pulse-secure). I generally use Paru to download packages from AUR. Follow [this Youtube video](https://www.youtube.com/watch?v=BwvQUtv1eM0&t=572s) to setup Paru. Paru is preinstalled in [ALG](https://archlinuxgui.in/).\n",
    "\n",
    "In Debian systems, `.deb` files are executable files. Simply double click and install the VPN client. "
   ]
  }
 ],
 "metadata": {
  "kernelspec": {
   "display_name": "Python 3 (ipykernel)",
   "language": "python",
   "name": "python3"
  },
  "language_info": {
   "codemirror_mode": {
    "name": "ipython",
    "version": 3
   },
   "file_extension": ".py",
   "mimetype": "text/x-python",
   "name": "python",
   "nbconvert_exporter": "python",
   "pygments_lexer": "ipython3",
   "version": "3.9.12"
  }
 },
 "nbformat": 4,
 "nbformat_minor": 5
}
