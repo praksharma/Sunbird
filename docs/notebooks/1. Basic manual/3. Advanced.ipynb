{
 "cells": [
  {
   "cell_type": "markdown",
   "id": "d87fa0e5-f284-460a-b590-fdaec524a7bb",
   "metadata": {},
   "source": [
    "# Creating more complex container image\n",
    "We might want to use files from outside the container\n",
    "* either by copying into the container images,\n",
    "* or by making them visible within a running container from their existing location on the host system."
   ]
  },
  {
   "cell_type": "markdown",
   "id": "ac05126c-3fc2-4487-b19e-8590519bc166",
   "metadata": {},
   "source": [
    "# Using scripts and files from outside the container\n",
    "`cd` to `sum` directory in the downloaded zip file.\n",
    "```console\n",
    "(base) hell@Dell-Precision-T1600:~/Desktop/Docker/docker-intro/sum$ pwd\n",
    "/home/hell/Desktop/Docker/docker-intro/sum\n",
    "```"
   ]
  },
  {
   "cell_type": "markdown",
   "id": "faff361c-8f42-4609-9593-5d974ed3772f",
   "metadata": {},
   "source": [
    "This directory has both `Dockerfile` and a python script called `sum.py`. We want to run the script using the container.\n",
    "\n",
    "If we try this \n",
    "`docker container run alice/alpine-python python3 sum.py`\n",
    "We will get an error message like this `python3: can't open file 'sum.py': [Errno 2] No such file or directory`."
   ]
  },
  {
   "cell_type": "markdown",
   "id": "ad695c9c-f8d2-4ef3-9b1e-80f95c62d41d",
   "metadata": {},
   "source": [
    "The problem here is the container has a seperate filesystem/OS. That is why containers can't infect the host filesystem/OS. In order to use Python(inside the container) and our script (outside the container) we need to create a link between the directory on our computer and the container.\n",
    "\n",
    "This link is called a **mount** and is just like mounting external drives to the computer. We need to have additional options to `docker container run` with `--mount type=bind,scource=${PWD},target=/temp`\n",
    "\n",
    "Here, `${PWD}` is the current working directory, you can substitute the source directory where the file or python script is on the host computer. The target is the mount point inside the container."
   ]
  },
  {
   "cell_type": "markdown",
   "id": "3277999d-3813-47d4-b35f-db4b9228d6f8",
   "metadata": {},
   "source": [
    "## Types of mounts\n",
    "`type` can be `bind`, `volume`, `tmfs`.\n",
    "## Final command to run external files\n",
    "`docker container run --mount type=bind,source=${PWD},target=/temp USERNAME/CONTAINER_IMAGE_NAME COMMAND_TO_RUN` \n",
    "\n",
    "For example,\n",
    "\n",
    "`docker container run --mount type=bind,source=${PWD},target=/temp alice/alphine-python python3 /temp/sum.py`\n",
    "\n",
    "Note that if we create any files in the `/temp` directory while the container is running, these files will appear on our host filesystem in the original directory and will stay there even when the container stops.\n",
    "\n",
    "* `docker container run`: use Docker to run a container\n",
    "* `--mount type=bind,source=${PWD},target=/temp`: connect my current working directory (`${PWD}`) as a folder inside the container called `/temp`\n",
    "* `alice/alpine-python`: name of the container image to use to run the container\n",
    "* `python3 /temp/sum.py`: what commands to run in the container"
   ]
  },
  {
   "cell_type": "markdown",
   "id": "8e8b14dc-a82b-4fae-9bff-633bf52e8772",
   "metadata": {},
   "source": [
    "The same container can be ran interactively with a mount point as follows\n",
    "\n",
    "`docker container run --mount type=bind,source=${PWD},target=/temp -it alice/alpine-python sh`"
   ]
  },
  {
   "cell_type": "markdown",
   "id": "6600e901-1e96-46ee-af4b-72dd4b3ba723",
   "metadata": {},
   "source": [
    "# Including your scripts and data within a container image\n",
    " Let’s assume that we’ve finished with our `sum.py` script and want to add it to the container image itself.\n",
    "\n",
    "Add a newline into the `Dockerfile` to copy the file `COPY sum.py`. Then simply build the image as usual: ` docker image build -t alice/alpine-sum .`\n",
    "### The Importance of Command Order in a Dockerfile\n",
    "Docker builds things in layers. For example, if we put the `COPY` command before the `RUN` command, rebuilding needs to build the `RUN` layers again.\n",
    "\n",
    "# If the files are on a GITHUB repo\n",
    "Add this command in the end of the `Dockerfile`\n",
    "\n",
    "`RUN git clone https://github.com/alice/mycode`"
   ]
  },
  {
   "cell_type": "markdown",
   "id": "79a783d1-284e-454a-8fbc-184e28ad4609",
   "metadata": {},
   "source": [
    "Similarly, the `wget` command can be used to download any file publicly available on the internet.\n",
    "\n",
    "`RUN wget ftp://ftp.ncbi.nlm.nih.gov/blast/executables/blast+/2.10.0/ncbi-blast-2.10.0+-x64-linux.tar.gz`\n",
    "\n",
    "# More fancy `Dockerfile` options \n",
    "## Make the `sum.py` script run automatically\n",
    "To achieve the goal of having a command that always runs when a container is run from the container image and can be passed the arguments given on the command line, use the keyword `ENTRYPOINT` in the `Dockerfile`.\n",
    "\n",
    "```console\n",
    "FROM alpine\n",
    "\n",
    "COPY sum.py /home\n",
    "RUN apk add --update python3 py3-pip python3-dev\n",
    "\n",
    "# Run the sum.py script as the default command and\n",
    "# allow people to enter arguments for it\n",
    "ENTRYPOINT [\"python3\", \"/home/sum.py\"]\n",
    "\n",
    "# Give default arguments, in case none are supplied on\n",
    "# the command-line\n",
    "CMD [\"10\", \"11\"]\n",
    "```"
   ]
  },
  {
   "cell_type": "markdown",
   "id": "f628b940-196e-41bf-acd5-082189ce456c",
   "metadata": {},
   "source": [
    "### Build and test it\n",
    "```console\n",
    "$ docker image build -t alpine-sum:v2 .\n",
    "# Most of the time you are interested in the sum of 10 and 11:\n",
    "$ docker container run alpine-sum:v2\n",
    "# Sometimes you have more challenging calculations to do:\n",
    "$ docker container run alpine-sum:v2 12 13 14\n",
    "```\n",
    "### Overriding the `ENTRYPOINT`\n",
    "Sometimes you don’t want to run the image’s `ENTRYPOINT`\n",
    "\n",
    "`docker container run -it alpine-sum:v2 /bin/sh`\n",
    "\n",
    "will yield\n",
    "\n",
    "`Please supply integer arguments`\n",
    "\n",
    "So, use `--entrypoint` to manually override the entrypoint.\n",
    "\n",
    "`docker container run -it --entrypoint /bin/sh alpine-sum:v2`"
   ]
  },
  {
   "cell_type": "markdown",
   "id": "321c5a67-19de-4675-8f99-4b9bfe3b9070",
   "metadata": {},
   "source": [
    "# Add the sum.py script to the PATH so you can run it directly\n",
    "Modify `Dockerfile`\n",
    "```console\n",
    "FROM alpine\n",
    "\n",
    "RUN apk add --update python3 py3-pip python3-dev\n",
    "\n",
    "COPY sum.py /home\n",
    "# set script permissions\n",
    "RUN chmod +x /home/sum.py\n",
    "# add /home folder to the PATH\n",
    "ENV PATH /home:$PATH\n",
    "```\n",
    "### Build and test the image\n",
    "```console\n",
    "$ docker image build -t alpine-sum:v3 .\n",
    "$ docker container run alpine-sum:v3 sum.py 1 2 3 4\n",
    "```"
   ]
  }
 ],
 "metadata": {
  "kernelspec": {
   "display_name": "Python 3 (ipykernel)",
   "language": "python",
   "name": "python3"
  },
  "language_info": {
   "codemirror_mode": {
    "name": "ipython",
    "version": 3
   },
   "file_extension": ".py",
   "mimetype": "text/x-python",
   "name": "python",
   "nbconvert_exporter": "python",
   "pygments_lexer": "ipython3",
   "version": "3.8.12"
  }
 },
 "nbformat": 4,
 "nbformat_minor": 5
}
