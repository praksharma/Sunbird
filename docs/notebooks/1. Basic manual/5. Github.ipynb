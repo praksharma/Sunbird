{
 "cells": [
  {
   "cell_type": "markdown",
   "id": "712320cb-4021-48fa-887d-7d3cf652bb84",
   "metadata": {},
   "source": [
    "# Using Docker with Github Actions\n",
    "link: https://carpentries-incubator.github.io/docker-introduction/e01-github-actions/"
   ]
  }
 ],
 "metadata": {
  "kernelspec": {
   "display_name": "Python 3 (ipykernel)",
   "language": "python",
   "name": "python3"
  },
  "language_info": {
   "codemirror_mode": {
    "name": "ipython",
    "version": 3
   },
   "file_extension": ".py",
   "mimetype": "text/x-python",
   "name": "python",
   "nbconvert_exporter": "python",
   "pygments_lexer": "ipython3",
   "version": "3.8.12"
  }
 },
 "nbformat": 4,
 "nbformat_minor": 5
}
