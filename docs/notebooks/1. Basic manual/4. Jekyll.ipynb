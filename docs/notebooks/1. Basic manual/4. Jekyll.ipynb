{
 "cells": [
  {
   "cell_type": "markdown",
   "id": "e1e0b89d-1ae7-43db-aabb-b81f78cac896",
   "metadata": {},
   "source": [
    "# Using Docker with Jekyll - Containers Used in Generating this Lesson\n",
    "link: https://carpentries-incubator.github.io/docker-introduction/e02-jekyll-lesson-example/"
   ]
  }
 ],
 "metadata": {
  "kernelspec": {
   "display_name": "Python 3 (ipykernel)",
   "language": "python",
   "name": "python3"
  },
  "language_info": {
   "codemirror_mode": {
    "name": "ipython",
    "version": 3
   },
   "file_extension": ".py",
   "mimetype": "text/x-python",
   "name": "python",
   "nbconvert_exporter": "python",
   "pygments_lexer": "ipython3",
   "version": "3.8.12"
  }
 },
 "nbformat": 4,
 "nbformat_minor": 5
}
