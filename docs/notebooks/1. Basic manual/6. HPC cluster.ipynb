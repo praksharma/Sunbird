{
 "cells": [
  {
   "cell_type": "markdown",
   "id": "4885aa80-23d3-45bf-ae6b-ada4ffaedbe2",
   "metadata": {},
   "source": [
    "# Using Containers on an HPC Cluste\n",
    "It is possible to run containers on shared computing systems run by a university or national computing center. As a researcher, you can build container images and test containers on your own computer and then run your full-scale computing work on a shared computing system like a high performance cluster or high throughput grid.\n",
    "\n",
    "The catch? Most university and national computing centers do not support running containers with Docker commands, and instead use a similar tool called Singularity or Shifter. However, both of these programs can be used to run containers based on Docker container images, so often people create their container image as a Docker container image, so they can run it using either of Docker or Singularity.\n",
    "\n",
    "There isn’t yet a working example of how to use Docker container images on a shared computing system, partially because each system is slightly different, but the following resources show what it can look like:\n",
    "\n",
    "* Introduction to Singularity: See the episode titled “Running MPI parallel jobs using Singularity containers”\n",
    "link: https://carpentries-incubator.github.io/singularity-introduction/\n",
    "* Container Workflows at Pawsey: See the episode titled “Run containers on HPC with Shifter (and Singularity)”\n",
    "link: https://pawseysc.github.io/container-workflows/"
   ]
  }
 ],
 "metadata": {
  "kernelspec": {
   "display_name": "Python 3 (ipykernel)",
   "language": "python",
   "name": "python3"
  },
  "language_info": {
   "codemirror_mode": {
    "name": "ipython",
    "version": 3
   },
   "file_extension": ".py",
   "mimetype": "text/x-python",
   "name": "python",
   "nbconvert_exporter": "python",
   "pygments_lexer": "ipython3",
   "version": "3.8.12"
  }
 },
 "nbformat": 4,
 "nbformat_minor": 5
}
