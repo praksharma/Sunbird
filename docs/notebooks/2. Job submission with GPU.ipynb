{
 "cells": [
  {
   "cell_type": "markdown",
   "id": "6f7c8a29-4445-4511-8343-aef59d5078d4",
   "metadata": {},
   "source": [
    "# Job submission with GPU: Running batch jobs\n",
    "For submitting a batch of jobs (like multiple commands) you need  to create a bash script. The script in general needs these things.\n",
    "```sh\n",
    "[s.1915438@sl1 pytorch_gpu_check]$ cat check_gpu.sh \n",
    "#!/bin/bash\n",
    "#SBATCH --nodes=1\n",
    "#SBATCH --time=00:00:40\n",
    "#SBATCH --ntasks=1\n",
    "#SBATCH --job-name=gpu_check\n",
    "#SBATCH --output=gpu.%j.out\n",
    "#SBATCH --error=gpu.%j.err\n",
    "#SBATCH --gres=gpu:1\n",
    "#SBATCH --account=scw1901\n",
    "#SBATCH --partition=accel_ai\n",
    "\n",
    "\n",
    "module load anaconda/3\n",
    "source activate ml\n",
    "python gpu.py\n",
    "[s.1915438@sl1 pytorch_gpu_check]$ \n",
    "```\n",
    "This file is self explanatory. A better description can be found here: https://www.carc.usc.edu/user-information/user-guides/software-and-programming/anaconda\n",
    "\n",
    "The output and error files are basically used to pipe the output from the shell where `%j` is the job number.\n",
    "\n",
    "The python file is still the same.\n",
    "\n",
    "```python\n",
    "[s.1915438@sl1 pytorch_gpu_check]$ cat gpu.py \n",
    "import torch\n",
    "print(torch.__version__)\n",
    "print(f\"Is available: {torch.cuda.is_available()}\")\n",
    "\n",
    "try:\n",
    "    print(f\"Current Devices: {torch.cuda.current_device()}\")\n",
    "except :\n",
    "    print('Current Devices: Torch is not compiled for GPU or No GPU')\n",
    "\n",
    "print(f\"No. of GPUs: {torch.cuda.device_count()}\")\n",
    "\n",
    "try:\n",
    "    print(f\"GPU Name:{torch.cuda.get_device_name(0)}\")\n",
    "except :\n",
    "    print('GPU Name: No GPU available')\n",
    "\n",
    "```\n",
    "\n"
   ]
  },
  {
   "cell_type": "markdown",
   "id": "a87732da-0325-40db-b2fe-8ccbbf852473",
   "metadata": {},
   "source": [
    "# Run bash file\n",
    "Here we use `SBATCH` command to run the file.\n",
    "```sh\n",
    "[s.1915438@sl1 pytorch_gpu_check]$ sbatch check_gpu.sh \n",
    "Submitted batch job 7133028\n",
    "```\n",
    "\n",
    "The output file is `gpu.7133028.out` and the error file is `gpu.7133028.err`.\n",
    "```sh\n",
    "[s.1915438@sl1 pytorch_gpu_check]$ cat gpu.7133029.out \n",
    "1.11.0\n",
    "Is available: True\n",
    "Current Devices: 0\n",
    "No. of GPUs: 1\n",
    "GPU Name:NVIDIA A100-PCIE-40GB\n",
    "[s.1915438@sl1 pytorch_gpu_check]$ cat gpu.7133029.err\n",
    "[s.1915438@sl1 pytorch_gpu_check]$ \n",
    "```\n"
   ]
  }
 ],
 "metadata": {
  "kernelspec": {
   "display_name": "Python 3 (ipykernel)",
   "language": "python",
   "name": "python3"
  },
  "language_info": {
   "codemirror_mode": {
    "name": "ipython",
    "version": 3
   },
   "file_extension": ".py",
   "mimetype": "text/x-python",
   "name": "python",
   "nbconvert_exporter": "python",
   "pygments_lexer": "ipython3",
   "version": "3.9.12"
  }
 },
 "nbformat": 4,
 "nbformat_minor": 5
}
