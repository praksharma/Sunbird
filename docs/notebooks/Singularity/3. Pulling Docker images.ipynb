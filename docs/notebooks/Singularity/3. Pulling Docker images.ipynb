{
 "cells": [
  {
   "cell_type": "markdown",
   "id": "b7fbf465-a762-46ad-a8f3-653fd7731bf0",
   "metadata": {},
   "source": [
    "# Using Docker images with Singularity\n",
    "When you direct Singularity to run a container based on pull a Docker image, Singularity pulls the slices or layers that make up the Docker image and converts them into a single-file Singularity SIF image.\n",
    "\n",
    "Let us pull Official Python Docker image.\n",
    "```sh\n",
    "[s.1915438@sl2 test]$ singularity pull python-3.9.6.sif docker://python:3.9.6-slim-buster\n",
    "INFO:    Converting OCI blobs to SIF format\n",
    "INFO:    Starting build...\n",
    "Getting image source signatures\n",
    "Copying blob e1acddbe380c done  \n",
    "Copying blob ecc7ff4d2622 done  \n",
    "Copying blob dae1d9fd74c1 done  \n",
    "Copying blob 87bc5aa6fc42 done  \n",
    "Copying blob 76f124aca9af done  \n",
    "Copying config 7becefa709 done  \n",
    "Writing manifest to image destination\n",
    "Storing signatures\n",
    "2022/06/27 10:29:51  info unpack layer: sha256:e1acddbe380c63f0de4b77d3f287b7c81cd9d89563a230692378126b46ea6546\n",
    "2022/06/27 10:29:51  info unpack layer: sha256:ecc7ff4d26223f4545c4fde4ca82a053f1152363c6a7d02715285751d8d721cd\n",
    "2022/06/27 10:29:52  info unpack layer: sha256:dae1d9fd74c12f7e66b92cb4fc295edc0c538c6ec2a066aaa594e91c84912945\n",
    "2022/06/27 10:29:52  info unpack layer: sha256:87bc5aa6fc4253b93dee0a9c996d962135b7d5131d739ce7cc6441b3bc9246c6\n",
    "2022/06/27 10:29:52  info unpack layer: sha256:76f124aca9afaf3f75812d0509da1ca6807ac1891abc62d88280ea5ff6ccac75\n",
    "INFO:    Creating SIF file...\n",
    "[s.1915438@sl2 test]$ ls\n",
    "hello-world.sif  python-3.9.6.sif\n",
    "[s.1915438@sl2 test]$ \n",
    "```"
   ]
  },
  {
   "cell_type": "markdown",
   "id": "80f292f7-e946-4cfd-a37c-0a0211cf16a5",
   "metadata": {
    "tags": []
   },
   "source": [
    "# Running pulled image\n",
    "In this example, we first printed the default Python version on Sunbird and then the Python version of the container is visible before the Python shell appears.\n",
    "* Default Python version on Sunbird: 2.7.5\n",
    "* Container Python version: 3.9.6\n",
    "\n",
    "### `singularity run`\n",
    "```sh\n",
    "[s.1915438@sl2 test]$ python --version\n",
    "Python 2.7.5\n",
    "[s.1915438@sl2 test]$ singularity run python-3.9.6.sif \n",
    "Python 3.9.6 (default, Aug 17 2021, 02:38:04) \n",
    "[GCC 8.3.0] on linux\n",
    "Type \"help\", \"copyright\", \"credits\" or \"license\" for more information.\n",
    ">>> \n",
    "[s.1915438@sl2 test]$ \n",
    "```\n",
    "### `singularity shell`\n",
    "```sh\n",
    "[s.1915438@sl2 test]$ singularity shell python-3.9.6.sif \n",
    "Singularity> ls\n",
    "hello-world.sif  python-3.9.6.sif\n",
    "Singularity> ls /\n",
    "apps  bin  boot  dev  environment  etc\thome  lib  lib64  media  mnt  opt  proc  root  run  sbin  scratch  singularity\tsrv  sys  tmp  usr  var\n",
    "Singularity> python --version\n",
    "Python 3.9.6\n",
    "```\n",
    "### `singularity exec`\n",
    "```sh\n",
    "[s.1915438@sl2 test]$ singularity exec python-3.9.6.sif uname\n",
    "Linux\n",
    "```"
   ]
  }
 ],
 "metadata": {
  "kernelspec": {
   "display_name": "Python 3 (ipykernel)",
   "language": "python",
   "name": "python3"
  },
  "language_info": {
   "codemirror_mode": {
    "name": "ipython",
    "version": 3
   },
   "file_extension": ".py",
   "mimetype": "text/x-python",
   "name": "python",
   "nbconvert_exporter": "python",
   "pygments_lexer": "ipython3",
   "version": "3.9.12"
  }
 },
 "nbformat": 4,
 "nbformat_minor": 5
}
