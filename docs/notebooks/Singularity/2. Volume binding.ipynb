{
 "cells": [
  {
   "cell_type": "markdown",
   "id": "5eb2616e-741b-473e-8e5a-a2819f80f1aa",
   "metadata": {},
   "source": [
    "# Files and directories within a Singularity container\n",
    "Similar to docker Singularity also bind paths. Here bind is copying the files but making a symbolic link to the binded path. Therefore, any changes made inside the container to the binded path is preserved after clossing the container.\n",
    "\n",
    "There is a default configuration of which files and directories are bound into the container. But it can be different depending on the system administrator.\n",
    "```\n",
    "Host system:                                                      Singularity container:\n",
    "-------------                                                     ----------------------\n",
    "/                                                                 /\n",
    "├── bin                                                           ├── bin\n",
    "├── etc                                                           ├── etc\n",
    "│   ├── ...                                                       │   ├── ...\n",
    "│   ├── group  ─> user's group added to group file in container ─>│   ├── group\n",
    "│   └── passwd ──> user info added to passwd file in container ──>│   └── passwd\n",
    "├── home                                                          ├── usr\n",
    "│   └── jc1000 ───> user home directory made available ──> ─┐     ├── sbin\n",
    "├── usr                 in container via bind mount         │     ├── home\n",
    "├── sbin                                                    └────────>└── jc1000\n",
    "└── ...                                                           └── ...\n",
    "```"
   ]
  },
  {
   "cell_type": "markdown",
   "id": "da754cf5-6d8b-44a6-be30-ec76b4d5d250",
   "metadata": {},
   "source": [
    "# Binding additional host system directories to the container\n",
    "We can bind data as well as software to the container. We can use `-B` with `singularity shell`, `singularity exec` and `singularity run`.\n",
    "\n",
    "Here we have binded `/scratch/s.1915438/` to `/binded_volume`.\n",
    "```sh\n",
    "[s.1915438@sl2 test]$ singularity  shell -B /scratch/s.1915438:/shared_disk hello-world.sif\n",
    "Singularity> ls /\n",
    "apps  boot  environment  home  lib64  mnt  proc     root  sbin\t   shared_disk\tsrv  tmp  var\n",
    "bin   dev   etc\t\t lib   media  opt  rawr.sh  run   scratch  singularity\tsys  usr\n",
    "Singularity> ls /shared_disk/\n",
    "Debugging Nvidia Modulus  Modulus_examples     SUT\t\tansys195\t     jupyter.sh      manim    parametrised_PINN  update.txt\n",
    "Heat conduction FDM\t  Modulus_my_examples  Singularity\tarchive_name.tar.gz  jupyter_env.sh  modulus  requirements.txt\n",
    "Modulus guides\t\t  Modulus_source       Untitled Folder\tenv\t\t     jupyter_log     outputs  temp\n",
    "Singularity> \n",
    "```\n",
    "\n",
    "We can also bind multiple volumes using commas `,` without spaces.\n",
    "```sh\n",
    "[s.1915438@sl2 test]$ singularity  shell -B /scratch/s.1915438:/shared_disk,/scratch/s.1915438/modulus:/binded_modulus hello-world.sif\n",
    "Singularity> ls /\n",
    "apps  binded_modulus  dev\t   etc\t lib\tmedia  opt   rawr.sh  run   scratch\t singularity  sys  usr\n",
    "bin   boot\t      environment  home  lib64\tmnt    proc  root     sbin  shared_disk  srv\t      tmp  var\n",
    "Singularity> ls /binded_modulus/\n",
    "bin  compiler_compat  conda-meta  etc  include\tlib  lib64  pyvenv.cfg\tshare  ssl  x86_64-conda-linux-gnu  x86_64-conda_cos6-linux-gnu\n",
    "Singularity> ls /shared_disk/\n",
    "Debugging Nvidia Modulus  Modulus_examples     SUT\t\tansys195\t     jupyter.sh      manim    parametrised_PINN  update.txt\n",
    "Heat conduction FDM\t  Modulus_my_examples  Singularity\tarchive_name.tar.gz  jupyter_env.sh  modulus  requirements.txt\n",
    "Modulus guides\t\t  Modulus_source       Untitled Folder\tenv\t\t     jupyter_log     outputs  temp\n",
    "Singularity> \n",
    "```"
   ]
  }
 ],
 "metadata": {
  "kernelspec": {
   "display_name": "Python 3 (ipykernel)",
   "language": "python",
   "name": "python3"
  },
  "language_info": {
   "codemirror_mode": {
    "name": "ipython",
    "version": 3
   },
   "file_extension": ".py",
   "mimetype": "text/x-python",
   "name": "python",
   "nbconvert_exporter": "python",
   "pygments_lexer": "ipython3",
   "version": "3.9.12"
  }
 },
 "nbformat": 4,
 "nbformat_minor": 5
}
