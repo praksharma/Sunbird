{
 "cells": [
  {
   "cell_type": "markdown",
   "id": "0cbc378c-a306-4544-a668-1a2061bac628",
   "metadata": {},
   "source": [
    "# Building Singularity images\n",
    "Singularity requires superuser for building Singularity images. Singularity is written in Go langauge and needs plenty amount of dependencies to build the image. Instead of installing Singularity on local machine we can use Docker Singularity images as the installation of Singulartiy is very tedious process.\n",
    "\n",
    "As of now, I am not interested in building a Singularity container. Here is a link if I really want to do this in future.\n",
    "\n",
    "[Link](https://carpentries-incubator.github.io/singularity-introduction/07-singularity-images-building/index.html)"
   ]
  },
  {
   "cell_type": "markdown",
   "id": "fd31f993-7469-4b3a-b101-f33f73074596",
   "metadata": {},
   "source": [
    "* URI beginning with `library://` to build from the Container Library\n",
    "* URI beginning with `docker://` to build from Docker Hub\n",
    "* URI beginning with `shub://` to build from Singularity Hub\n",
    "* URI beginning with `docker-archive://` to build from local Docker container"
   ]
  }
 ],
 "metadata": {
  "kernelspec": {
   "display_name": "Python 3 (ipykernel)",
   "language": "python",
   "name": "python3"
  },
  "language_info": {
   "codemirror_mode": {
    "name": "ipython",
    "version": 3
   },
   "file_extension": ".py",
   "mimetype": "text/x-python",
   "name": "python",
   "nbconvert_exporter": "python",
   "pygments_lexer": "ipython3",
   "version": "3.9.12"
  }
 },
 "nbformat": 4,
 "nbformat_minor": 5
}
